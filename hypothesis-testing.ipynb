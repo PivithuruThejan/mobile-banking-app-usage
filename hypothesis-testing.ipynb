{
 "cells": [
  {
   "cell_type": "code",
   "execution_count": 1,
   "metadata": {},
   "outputs": [],
   "source": [
    "import pandas as pd\n",
    "import math  "
   ]
  },
  {
   "cell_type": "code",
   "execution_count": 2,
   "metadata": {},
   "outputs": [
    {
     "name": "stdout",
     "output_type": "stream",
     "text": [
      "(227, 21)\n"
     ]
    }
   ],
   "source": [
    "df=pd.read_csv('data.csv')\n",
    "print(df.shape)"
   ]
  },
  {
   "cell_type": "code",
   "execution_count": 3,
   "metadata": {},
   "outputs": [
    {
     "data": {
      "text/html": [
       "<div>\n",
       "<style scoped>\n",
       "    .dataframe tbody tr th:only-of-type {\n",
       "        vertical-align: middle;\n",
       "    }\n",
       "\n",
       "    .dataframe tbody tr th {\n",
       "        vertical-align: top;\n",
       "    }\n",
       "\n",
       "    .dataframe thead th {\n",
       "        text-align: right;\n",
       "    }\n",
       "</style>\n",
       "<table border=\"1\" class=\"dataframe\">\n",
       "  <thead>\n",
       "    <tr style=\"text-align: right;\">\n",
       "      <th></th>\n",
       "      <th>Timestamp</th>\n",
       "      <th>Gender</th>\n",
       "      <th>Age</th>\n",
       "      <th>District</th>\n",
       "      <th>Occupation</th>\n",
       "      <th>Educational background</th>\n",
       "      <th>Marital status</th>\n",
       "      <th>Monthly income</th>\n",
       "      <th>Type of bank you use for your mobile banking application</th>\n",
       "      <th>Source to know about the mobile banking application</th>\n",
       "      <th>...</th>\n",
       "      <th>The preferred way to use the mobile banking application</th>\n",
       "      <th>Use of mobile application</th>\n",
       "      <th>Average amount of money  transfer during a month using the mobile banking application</th>\n",
       "      <th>Average total amount of money transfer during a month by going to the bank or ATM</th>\n",
       "      <th>Willing to use the mobile banking application to perform transactions with other banks</th>\n",
       "      <th>Willing to use the mobile banking application to do large transactions</th>\n",
       "      <th>Satisfied with the security measurements in your mobile banking application</th>\n",
       "      <th>Satisfied with the service charges related to the mobile banking application</th>\n",
       "      <th>Provide an overall rating to your mobile banking application( 1-worst, 5-best)</th>\n",
       "      <th>Which banks have better mobile banking applications</th>\n",
       "    </tr>\n",
       "  </thead>\n",
       "  <tbody>\n",
       "    <tr>\n",
       "      <th>0</th>\n",
       "      <td>31/10/2020 22:40:39</td>\n",
       "      <td>Male</td>\n",
       "      <td>25 to 45</td>\n",
       "      <td>Gampaha</td>\n",
       "      <td>Private Sector</td>\n",
       "      <td>Degree</td>\n",
       "      <td>Married</td>\n",
       "      <td>More than 100000</td>\n",
       "      <td>Private</td>\n",
       "      <td>From a friend</td>\n",
       "      <td>...</td>\n",
       "      <td>Mobile app</td>\n",
       "      <td>Pay bills, Transfer money to other accounts, C...</td>\n",
       "      <td>Between 1000 to 5000</td>\n",
       "      <td>Between 10000 to 50000</td>\n",
       "      <td>Yes</td>\n",
       "      <td>Yes</td>\n",
       "      <td>Yes</td>\n",
       "      <td>Yes</td>\n",
       "      <td>4</td>\n",
       "      <td>Not applicable</td>\n",
       "    </tr>\n",
       "    <tr>\n",
       "      <th>1</th>\n",
       "      <td>31/10/2020 22:40:59</td>\n",
       "      <td>Male</td>\n",
       "      <td>25 to 45</td>\n",
       "      <td>Matara</td>\n",
       "      <td>Private Sector</td>\n",
       "      <td>Degree</td>\n",
       "      <td>Single</td>\n",
       "      <td>Less than 20000</td>\n",
       "      <td>Private</td>\n",
       "      <td>From the bank</td>\n",
       "      <td>...</td>\n",
       "      <td>Mobile app</td>\n",
       "      <td>Pay bills, Transfer money to other accounts, C...</td>\n",
       "      <td>Between 10000 to 50000</td>\n",
       "      <td>Between 5000 to 10000</td>\n",
       "      <td>Yes</td>\n",
       "      <td>Yes</td>\n",
       "      <td>Yes</td>\n",
       "      <td>Yes</td>\n",
       "      <td>5</td>\n",
       "      <td>Private banks</td>\n",
       "    </tr>\n",
       "    <tr>\n",
       "      <th>2</th>\n",
       "      <td>31/10/2020 22:42:00</td>\n",
       "      <td>Male</td>\n",
       "      <td>25 to 45</td>\n",
       "      <td>Matara</td>\n",
       "      <td>Private Sector</td>\n",
       "      <td>Degree</td>\n",
       "      <td>Single</td>\n",
       "      <td>More than 100000</td>\n",
       "      <td>Private</td>\n",
       "      <td>From the bank</td>\n",
       "      <td>...</td>\n",
       "      <td>Mobile app</td>\n",
       "      <td>Pay bills, Transfer money to other accounts, C...</td>\n",
       "      <td>Between 10000 to 50000</td>\n",
       "      <td>Less than 1000</td>\n",
       "      <td>Yes</td>\n",
       "      <td>Yes</td>\n",
       "      <td>Yes</td>\n",
       "      <td>Yes</td>\n",
       "      <td>4</td>\n",
       "      <td>Private banks</td>\n",
       "    </tr>\n",
       "    <tr>\n",
       "      <th>3</th>\n",
       "      <td>31/10/2020 22:43:35</td>\n",
       "      <td>Female</td>\n",
       "      <td>25 to 45</td>\n",
       "      <td>Matara</td>\n",
       "      <td>Student</td>\n",
       "      <td>Degree</td>\n",
       "      <td>Single</td>\n",
       "      <td>Not applicable</td>\n",
       "      <td>Private</td>\n",
       "      <td>From the bank</td>\n",
       "      <td>...</td>\n",
       "      <td>Browser</td>\n",
       "      <td>Pay bills, Check bank balance</td>\n",
       "      <td>Between 1000 to 5000</td>\n",
       "      <td>Between 1000 to 5000</td>\n",
       "      <td>No</td>\n",
       "      <td>Yes</td>\n",
       "      <td>Yes</td>\n",
       "      <td>Neutral</td>\n",
       "      <td>4</td>\n",
       "      <td>Not applicable</td>\n",
       "    </tr>\n",
       "    <tr>\n",
       "      <th>4</th>\n",
       "      <td>31/10/2020 22:48:10</td>\n",
       "      <td>Male</td>\n",
       "      <td>25 to 45</td>\n",
       "      <td>Colombo</td>\n",
       "      <td>Student</td>\n",
       "      <td>Degree</td>\n",
       "      <td>Single</td>\n",
       "      <td>Not applicable</td>\n",
       "      <td>Public</td>\n",
       "      <td>From the bank</td>\n",
       "      <td>...</td>\n",
       "      <td>Mobile app</td>\n",
       "      <td>Pay bills, Transfer money to other accounts, C...</td>\n",
       "      <td>Between 1000 to 5000</td>\n",
       "      <td>Between 1000 to 5000</td>\n",
       "      <td>Yes</td>\n",
       "      <td>Yes</td>\n",
       "      <td>Yes</td>\n",
       "      <td>No</td>\n",
       "      <td>5</td>\n",
       "      <td>Government banks</td>\n",
       "    </tr>\n",
       "  </tbody>\n",
       "</table>\n",
       "<p>5 rows × 21 columns</p>\n",
       "</div>"
      ],
      "text/plain": [
       "             Timestamp  Gender       Age District      Occupation  \\\n",
       "0  31/10/2020 22:40:39    Male  25 to 45  Gampaha  Private Sector   \n",
       "1  31/10/2020 22:40:59    Male  25 to 45   Matara  Private Sector   \n",
       "2  31/10/2020 22:42:00    Male  25 to 45   Matara  Private Sector   \n",
       "3  31/10/2020 22:43:35  Female  25 to 45   Matara         Student   \n",
       "4  31/10/2020 22:48:10    Male  25 to 45  Colombo         Student   \n",
       "\n",
       "  Educational background Marital status    Monthly income  \\\n",
       "0                 Degree        Married  More than 100000   \n",
       "1                 Degree         Single   Less than 20000   \n",
       "2                 Degree         Single  More than 100000   \n",
       "3                 Degree         Single    Not applicable   \n",
       "4                 Degree         Single    Not applicable   \n",
       "\n",
       "  Type of bank you use for your mobile banking application  \\\n",
       "0                                            Private         \n",
       "1                                            Private         \n",
       "2                                            Private         \n",
       "3                                            Private         \n",
       "4                                             Public         \n",
       "\n",
       "  Source to know about the mobile banking application  ...  \\\n",
       "0                                      From a friend   ...   \n",
       "1                                      From the bank   ...   \n",
       "2                                      From the bank   ...   \n",
       "3                                      From the bank   ...   \n",
       "4                                      From the bank   ...   \n",
       "\n",
       "  The preferred way to use the mobile banking application  \\\n",
       "0                                         Mobile app        \n",
       "1                                         Mobile app        \n",
       "2                                         Mobile app        \n",
       "3                                            Browser        \n",
       "4                                         Mobile app        \n",
       "\n",
       "                           Use of mobile application  \\\n",
       "0  Pay bills, Transfer money to other accounts, C...   \n",
       "1  Pay bills, Transfer money to other accounts, C...   \n",
       "2  Pay bills, Transfer money to other accounts, C...   \n",
       "3                      Pay bills, Check bank balance   \n",
       "4  Pay bills, Transfer money to other accounts, C...   \n",
       "\n",
       "  Average amount of money  transfer during a month using the mobile banking application  \\\n",
       "0                               Between 1000 to 5000                                      \n",
       "1                             Between 10000 to 50000                                      \n",
       "2                             Between 10000 to 50000                                      \n",
       "3                               Between 1000 to 5000                                      \n",
       "4                               Between 1000 to 5000                                      \n",
       "\n",
       "  Average total amount of money transfer during a month by going to the bank or ATM  \\\n",
       "0                             Between 10000 to 50000                                  \n",
       "1                              Between 5000 to 10000                                  \n",
       "2                                     Less than 1000                                  \n",
       "3                               Between 1000 to 5000                                  \n",
       "4                               Between 1000 to 5000                                  \n",
       "\n",
       "  Willing to use the mobile banking application to perform transactions with other banks  \\\n",
       "0                                                Yes                                       \n",
       "1                                                Yes                                       \n",
       "2                                                Yes                                       \n",
       "3                                                 No                                       \n",
       "4                                                Yes                                       \n",
       "\n",
       "  Willing to use the mobile banking application to do large transactions  \\\n",
       "0                                                Yes                       \n",
       "1                                                Yes                       \n",
       "2                                                Yes                       \n",
       "3                                                Yes                       \n",
       "4                                                Yes                       \n",
       "\n",
       "  Satisfied with the security measurements in your mobile banking application  \\\n",
       "0                                                Yes                            \n",
       "1                                                Yes                            \n",
       "2                                                Yes                            \n",
       "3                                                Yes                            \n",
       "4                                                Yes                            \n",
       "\n",
       "  Satisfied with the service charges related to the mobile banking application  \\\n",
       "0                                                Yes                             \n",
       "1                                                Yes                             \n",
       "2                                                Yes                             \n",
       "3                                            Neutral                             \n",
       "4                                                 No                             \n",
       "\n",
       "  Provide an overall rating to your mobile banking application( 1-worst, 5-best)  \\\n",
       "0                                                  4                               \n",
       "1                                                  5                               \n",
       "2                                                  4                               \n",
       "3                                                  4                               \n",
       "4                                                  5                               \n",
       "\n",
       "   Which banks have better mobile banking applications  \n",
       "0                                     Not applicable    \n",
       "1                                      Private banks    \n",
       "2                                      Private banks    \n",
       "3                                     Not applicable    \n",
       "4                                   Government banks    \n",
       "\n",
       "[5 rows x 21 columns]"
      ]
     },
     "execution_count": 3,
     "metadata": {},
     "output_type": "execute_result"
    }
   ],
   "source": [
    "df.head()"
   ]
  },
  {
   "cell_type": "code",
   "execution_count": 4,
   "metadata": {},
   "outputs": [
    {
     "data": {
      "text/plain": [
       "Index(['Timestamp', 'Gender', 'Age', 'District', 'Occupation',\n",
       "       'Educational background', 'Marital status', 'Monthly income',\n",
       "       'Type of bank you use for your mobile banking application',\n",
       "       'Source to know about the mobile banking application',\n",
       "       'Duration of using the mobile banking application',\n",
       "       'The preferred way to use the mobile banking application',\n",
       "       'Use of mobile application',\n",
       "       'Average amount of money  transfer during a month using the mobile banking application',\n",
       "       'Average total amount of money transfer during a month by going to the bank or ATM',\n",
       "       'Willing to use the mobile banking application to perform transactions with other banks',\n",
       "       'Willing to use the mobile banking application to do large transactions',\n",
       "       'Satisfied with the security measurements in your mobile banking application',\n",
       "       'Satisfied with the service charges related to the mobile banking application',\n",
       "       'Provide an overall rating to your mobile banking application( 1-worst, 5-best)',\n",
       "       'Which banks have better mobile banking applications'],\n",
       "      dtype='object')"
      ]
     },
     "execution_count": 4,
     "metadata": {},
     "output_type": "execute_result"
    }
   ],
   "source": [
    "df.columns"
   ]
  },
  {
   "cell_type": "markdown",
   "metadata": {},
   "source": [
    "### Confidence Interval for a Single Proportion"
   ]
  },
  {
   "cell_type": "markdown",
   "metadata": {},
   "source": [
    "#### Transactions with other banks"
   ]
  },
  {
   "cell_type": "code",
   "execution_count": 5,
   "metadata": {
    "scrolled": true
   },
   "outputs": [],
   "source": [
    "results = df['Willing to use the mobile banking application to perform transactions with other banks'].value_counts()"
   ]
  },
  {
   "cell_type": "code",
   "execution_count": 6,
   "metadata": {},
   "outputs": [
    {
     "data": {
      "text/plain": [
       "Yes    206\n",
       "No      21\n",
       "Name: Willing to use the mobile banking application to perform transactions with other banks, dtype: int64"
      ]
     },
     "execution_count": 6,
     "metadata": {},
     "output_type": "execute_result"
    }
   ],
   "source": [
    "results"
   ]
  },
  {
   "cell_type": "code",
   "execution_count": 7,
   "metadata": {
    "scrolled": true
   },
   "outputs": [
    {
     "name": "stdout",
     "output_type": "stream",
     "text": [
      "0.8697960007894412\n",
      "0.9451819727788406\n"
     ]
    }
   ],
   "source": [
    "pHat = (results.get('Yes')/ (results.get('Yes') + results.get('No')))\n",
    "z = 1.96\n",
    "confInterval = z * math.sqrt((pHat*(1-pHat)/ (results.get('Yes') + results.get('No'))))\n",
    "lB = (pHat-confInterval)\n",
    "uB = (pHat+confInterval)\n",
    "print(lB)\n",
    "print(uB)                            "
   ]
  },
  {
   "cell_type": "markdown",
   "metadata": {},
   "source": [
    "#### Large Transactions"
   ]
  },
  {
   "cell_type": "code",
   "execution_count": 8,
   "metadata": {},
   "outputs": [],
   "source": [
    "results = largeTransactions = df['Willing to use the mobile banking application to do large transactions'].value_counts()"
   ]
  },
  {
   "cell_type": "code",
   "execution_count": 9,
   "metadata": {},
   "outputs": [
    {
     "name": "stdout",
     "output_type": "stream",
     "text": [
      "153\n",
      "74\n",
      "0.6130300123704995\n",
      "0.734987608774875\n"
     ]
    }
   ],
   "source": [
    "pHat = (results.get('Yes')/ (results.get('Yes') + results.get('No')))\n",
    "z = 1.96\n",
    "confInterval = z * math.sqrt((pHat*(1-pHat)/ (results.get('Yes') + results.get('No'))))\n",
    "lB = (pHat-confInterval)\n",
    "uB = (pHat+confInterval)\n",
    "print(results.get('Yes'))\n",
    "print(results.get('No'))\n",
    "print(lB)\n",
    "print(uB)"
   ]
  },
  {
   "cell_type": "markdown",
   "metadata": {},
   "source": [
    "#### Willing to use browser than mobile app"
   ]
  },
  {
   "cell_type": "code",
   "execution_count": 10,
   "metadata": {},
   "outputs": [],
   "source": [
    "results = largeTransactions = df['The preferred way to use the mobile banking application'].value_counts()"
   ]
  },
  {
   "cell_type": "code",
   "execution_count": 11,
   "metadata": {},
   "outputs": [
    {
     "name": "stdout",
     "output_type": "stream",
     "text": [
      "37\n",
      "190\n",
      "0.11494542255074991\n",
      "0.21104576687656285\n"
     ]
    }
   ],
   "source": [
    "pHat = (results.get('Browser')/ (results.get('Browser') + results.get('Mobile app')))\n",
    "z = 1.96\n",
    "confInterval = z * math.sqrt((pHat*(1-pHat)/ (results.get('Browser') + results.get('Mobile app'))))\n",
    "lB = (pHat-confInterval)\n",
    "uB = (pHat+confInterval)\n",
    "print(results.get('Browser'))\n",
    "print(results.get('Mobile app'))\n",
    "print(lB)\n",
    "print(uB)"
   ]
  },
  {
   "cell_type": "markdown",
   "metadata": {},
   "source": [
    "#### Satisfied about the security"
   ]
  },
  {
   "cell_type": "code",
   "execution_count": 12,
   "metadata": {},
   "outputs": [],
   "source": [
    "results = largeTransactions = df['Satisfied with the security measurements in your mobile banking application'].value_counts()"
   ]
  },
  {
   "cell_type": "code",
   "execution_count": 13,
   "metadata": {},
   "outputs": [
    {
     "name": "stdout",
     "output_type": "stream",
     "text": [
      "190\n",
      "37\n",
      "0.7889542331234372\n",
      "0.88505457744925\n"
     ]
    }
   ],
   "source": [
    "pHat = (results.get('Yes')/ (results.get('Yes') + results.get('No')))\n",
    "z = 1.96\n",
    "confInterval = z * math.sqrt((pHat*(1-pHat)/ (results.get('Yes') + results.get('No'))))\n",
    "lB = (pHat-confInterval)\n",
    "uB = (pHat+confInterval)\n",
    "print(results.get('Yes'))\n",
    "print(results.get('No'))\n",
    "print(lB)\n",
    "print(uB)"
   ]
  },
  {
   "cell_type": "markdown",
   "metadata": {},
   "source": [
    "### Test for a Single Proportion"
   ]
  },
  {
   "cell_type": "markdown",
   "metadata": {},
   "source": [
    "#### Users equally prefer to use mobile app and browser."
   ]
  },
  {
   "cell_type": "code",
   "execution_count": 14,
   "metadata": {},
   "outputs": [],
   "source": [
    "results = largeTransactions = df['The preferred way to use the mobile banking application'].value_counts()"
   ]
  },
  {
   "cell_type": "code",
   "execution_count": 15,
   "metadata": {},
   "outputs": [
    {
     "name": "stdout",
     "output_type": "stream",
     "text": [
      "37\n",
      "190\n",
      "10.154966667479568\n"
     ]
    }
   ],
   "source": [
    "pHat = (results.get('Mobile app')/ (results.get('Browser') + results.get('Mobile app')))\n",
    "n = results.get('Browser') + results.get('Mobile app')\n",
    "p = 0.5\n",
    "z = (pHat - p)/math.sqrt((p * (1-p))/n)\n",
    "print(results.get('Browser'))\n",
    "print(results.get('Mobile app'))\n",
    "print(z)"
   ]
  },
  {
   "cell_type": "markdown",
   "metadata": {},
   "source": [
    "#### Service of private banks is better than public banks."
   ]
  },
  {
   "cell_type": "code",
   "execution_count": 16,
   "metadata": {},
   "outputs": [
    {
     "name": "stdout",
     "output_type": "stream",
     "text": [
      "147\n",
      "24\n",
      "13.076696830622021\n"
     ]
    }
   ],
   "source": [
    "results = df['Which banks have better mobile banking applications'].value_counts()\n",
    "pHat = ((results.get('Private banks') + results.get('Government banks'))/ (results.get('Private banks') + results.get('Government banks')))\n",
    "n = results.get('Private banks') + results.get('Government banks')\n",
    "p = 0.5\n",
    "z = (pHat - p)/math.sqrt((p * (1-p))/n)\n",
    "print(results.get('Private banks'))\n",
    "print(results.get('Government banks'))\n",
    "print(z)\n"
   ]
  },
  {
   "cell_type": "markdown",
   "metadata": {},
   "source": [
    "### Distribution of Differences in Proportions"
   ]
  },
  {
   "cell_type": "markdown",
   "metadata": {},
   "source": [
    "#### Willing to use the mobile banking application to perform transactions with other banks based on gender"
   ]
  },
  {
   "cell_type": "code",
   "execution_count": 17,
   "metadata": {
    "scrolled": false
   },
   "outputs": [
    {
     "name": "stdout",
     "output_type": "stream",
     "text": [
      "0.08419474239142916\n",
      "0.013474623597115098\n",
      "0.1818641083799734\n"
     ]
    }
   ],
   "source": [
    "results = (df[['Willing to use the mobile banking application to perform transactions with other banks', 'Gender']])\n",
    "resultsMale = (results[results['Gender']=='Male' ])['Willing to use the mobile banking application to perform transactions with other banks'].value_counts()\n",
    "resultsFeMale = (results[results['Gender']=='Female'])['Willing to use the mobile banking application to perform transactions with other banks'].value_counts()\n",
    "p1 = (resultsMale.get('Yes')/ (resultsMale.get('Yes') + resultsMale.get('No')))\n",
    "p2= (resultsFeMale.get('Yes')/ (resultsFeMale.get('Yes') + resultsFeMale.get('No')))\n",
    "z = 1.645\n",
    "confInterval = z *math.sqrt((p1*(1-p1)/(resultsMale.get('Yes') + resultsMale.get('No'))) + (p2*(1-p2)/(resultsFeMale.get('Yes') + resultsFeMale.get('No'))))\n",
    "print(confInterval)\n",
    "lB = (p1-p2-confInterval)\n",
    "uB = (p1-p2+confInterval)\n",
    "print(lB)\n",
    "print(uB)"
   ]
  },
  {
   "cell_type": "markdown",
   "metadata": {},
   "source": [
    "#### Willing to use the mobile banking application to do large transactions based on gender"
   ]
  },
  {
   "cell_type": "code",
   "execution_count": 18,
   "metadata": {},
   "outputs": [
    {
     "name": "stdout",
     "output_type": "stream",
     "text": [
      "Yes    118\n",
      "No      48\n",
      "Name: Willing to use the mobile banking application to do large transactions, dtype: int64\n",
      "Yes    35\n",
      "No     26\n",
      "Name: Willing to use the mobile banking application to do large transactions, dtype: int64\n",
      "0.7108433734939759\n",
      "0.5737704918032787\n",
      "0.1191617092648333\n",
      "0.017911172425863903\n",
      "0.2562345909555305\n"
     ]
    }
   ],
   "source": [
    "results = (df[['Willing to use the mobile banking application to do large transactions', 'Gender']])\n",
    "resultsMale = (results[results['Gender']=='Male' ])['Willing to use the mobile banking application to do large transactions'].value_counts()\n",
    "resultsFeMale = (results[results['Gender']=='Female'])['Willing to use the mobile banking application to do large transactions'].value_counts()\n",
    "p1 = (resultsMale.get('Yes')/ (resultsMale.get('Yes') + resultsMale.get('No')))\n",
    "p2= (resultsFeMale.get('Yes')/ (resultsFeMale.get('Yes') + resultsFeMale.get('No')))\n",
    "print(resultsMale)\n",
    "print(resultsFeMale)\n",
    "print(p1)\n",
    "print(p2)\n",
    "z = 1.645\n",
    "confInterval = z *math.sqrt((p1*(1-p1)/(resultsMale.get('Yes') + resultsMale.get('No'))) + (p2*(1-p2)/(resultsFeMale.get('Yes') + resultsFeMale.get('No'))))\n",
    "print(confInterval)\n",
    "lB = (p1-p2-confInterval)\n",
    "uB = (p1-p2+confInterval)\n",
    "print(lB)\n",
    "print(uB)"
   ]
  },
  {
   "cell_type": "markdown",
   "metadata": {},
   "source": [
    "#### Satisfied with the security measurements in your mobile banking application based on gender"
   ]
  },
  {
   "cell_type": "code",
   "execution_count": 19,
   "metadata": {},
   "outputs": [
    {
     "name": "stdout",
     "output_type": "stream",
     "text": [
      "Yes    138\n",
      "No      28\n",
      "Name: Satisfied with the security measurements in your mobile banking application, dtype: int64\n",
      "Yes    52\n",
      "No      9\n",
      "Name: Satisfied with the security measurements in your mobile banking application, dtype: int64\n",
      "0.8313253012048193\n",
      "0.8524590163934426\n",
      "0.0886862010157496\n",
      "-0.10981991620437288\n",
      "0.06755248582712632\n"
     ]
    }
   ],
   "source": [
    "results = (df[['Satisfied with the security measurements in your mobile banking application', 'Gender']])\n",
    "resultsMale = (results[results['Gender']=='Male' ])['Satisfied with the security measurements in your mobile banking application'].value_counts()\n",
    "resultsFeMale = (results[results['Gender']=='Female'])['Satisfied with the security measurements in your mobile banking application'].value_counts()\n",
    "p1 = (resultsMale.get('Yes')/ (resultsMale.get('Yes') + resultsMale.get('No')))\n",
    "p2= (resultsFeMale.get('Yes')/ (resultsFeMale.get('Yes') + resultsFeMale.get('No')))\n",
    "print(resultsMale)\n",
    "print(resultsFeMale)\n",
    "print(p1)\n",
    "print(p2)\n",
    "z = 1.645\n",
    "confInterval = z *math.sqrt((p1*(1-p1)/(resultsMale.get('Yes') + resultsMale.get('No'))) + (p2*(1-p2)/(resultsFeMale.get('Yes') + resultsFeMale.get('No'))))\n",
    "print(confInterval)\n",
    "lB = (p1-p2-confInterval)\n",
    "uB = (p1-p2+confInterval)\n",
    "print(lB)\n",
    "print(uB)"
   ]
  },
  {
   "cell_type": "markdown",
   "metadata": {},
   "source": [
    "#### Willing to use browser than mobile app based on gender "
   ]
  },
  {
   "cell_type": "code",
   "execution_count": 20,
   "metadata": {},
   "outputs": [
    {
     "name": "stdout",
     "output_type": "stream",
     "text": [
      "Mobile app    136\n",
      "Browser        30\n",
      "Name: The preferred way to use the mobile banking application, dtype: int64\n",
      "Mobile app    54\n",
      "Browser        7\n",
      "Name: The preferred way to use the mobile banking application, dtype: int64\n",
      "0.8192771084337349\n",
      "0.8852459016393442\n",
      "0.08318688975216215\n",
      "-0.14915568295777148\n",
      "0.01721809654655282\n"
     ]
    }
   ],
   "source": [
    "results = (df[['The preferred way to use the mobile banking application', 'Gender']])\n",
    "resultsMale = (results[results['Gender']=='Male' ])['The preferred way to use the mobile banking application'].value_counts()\n",
    "resultsFeMale = (results[results['Gender']=='Female'])['The preferred way to use the mobile banking application'].value_counts()\n",
    "p1 = (resultsMale.get('Mobile app')/ (resultsMale.get('Mobile app') + resultsMale.get('Browser')))\n",
    "p2= (resultsFeMale.get('Mobile app')/ (resultsFeMale.get('Mobile app') + resultsFeMale.get('Browser')))\n",
    "print(resultsMale)\n",
    "print(resultsFeMale)\n",
    "print(p1)\n",
    "print(p2)\n",
    "z = 1.645\n",
    "confInterval = z *math.sqrt((p1*(1-p1)/(resultsMale.get('Mobile app') + resultsMale.get('Browser'))) + (p2*(1-p2)/(resultsFeMale.get('Mobile app') + resultsFeMale.get('Browser'))))\n",
    "print(confInterval)\n",
    "lB = (p1-p2-confInterval)\n",
    "uB = (p1-p2+confInterval)\n",
    "print(lB)\n",
    "print(uB)"
   ]
  },
  {
   "cell_type": "markdown",
   "metadata": {},
   "source": [
    "### Test for a Difference in Proportions "
   ]
  },
  {
   "cell_type": "markdown",
   "metadata": {},
   "source": [
    "#### Men are willing to use the mobile banking application to do large transactions compared to women"
   ]
  },
  {
   "cell_type": "code",
   "execution_count": 21,
   "metadata": {},
   "outputs": [
    {
     "name": "stdout",
     "output_type": "stream",
     "text": [
      "Yes    118\n",
      "No      48\n",
      "Name: Willing to use the mobile banking application to do large transactions, dtype: int64\n",
      "Yes    35\n",
      "No     26\n",
      "Name: Willing to use the mobile banking application to do large transactions, dtype: int64\n",
      "0.7108433734939759\n",
      "0.5737704918032787\n",
      "0.6740088105726872\n",
      "1.9530882079668368\n"
     ]
    }
   ],
   "source": [
    "results = (df[['Willing to use the mobile banking application to do large transactions', 'Gender']])\n",
    "resultsMale = (results[results['Gender']=='Male' ])['Willing to use the mobile banking application to do large transactions'].value_counts()\n",
    "resultsFeMale = (results[results['Gender']=='Female'])['Willing to use the mobile banking application to do large transactions'].value_counts()\n",
    "p1 = (resultsMale.get('Yes')/ (resultsMale.get('Yes') + resultsMale.get('No')))\n",
    "p2= (resultsFeMale.get('Yes')/ (resultsFeMale.get('Yes') + resultsFeMale.get('No')))\n",
    "pHat = (resultsMale.get('Yes') + resultsFeMale.get('Yes'))/ (resultsMale.get('Yes') + resultsMale.get('No') + resultsFeMale.get('Yes') + resultsFeMale.get('No'))\n",
    "n1 = resultsMale.get('Yes') + resultsMale.get('No')\n",
    "n2 = resultsFeMale.get('Yes') + resultsFeMale.get('No')\n",
    "print(resultsMale)\n",
    "print(resultsFeMale)\n",
    "print(p1)\n",
    "print(p2)\n",
    "print(pHat)\n",
    "z = (p1 - p2)/math.sqrt((pHat*(1-pHat)/n1)+(pHat*(1-pHat)/n2))\n",
    "print(z)"
   ]
  },
  {
   "cell_type": "markdown",
   "metadata": {},
   "source": [
    "#### Men are willing to use the mobile banking application to perform transactions with other banks compared to women"
   ]
  },
  {
   "cell_type": "code",
   "execution_count": 22,
   "metadata": {},
   "outputs": [
    {
     "name": "stdout",
     "output_type": "stream",
     "text": [
      "Yes    155\n",
      "No      11\n",
      "Name: Willing to use the mobile banking application to perform transactions with other banks, dtype: int64\n",
      "Yes    51\n",
      "No     10\n",
      "Name: Willing to use the mobile banking application to perform transactions with other banks, dtype: int64\n",
      "0.9337349397590361\n",
      "0.8360655737704918\n",
      "0.9074889867841409\n",
      "2.2513706552261934\n"
     ]
    }
   ],
   "source": [
    "results = (df[['Willing to use the mobile banking application to perform transactions with other banks', 'Gender']])\n",
    "resultsMale = (results[results['Gender']=='Male' ])['Willing to use the mobile banking application to perform transactions with other banks'].value_counts()\n",
    "resultsFeMale = (results[results['Gender']=='Female'])['Willing to use the mobile banking application to perform transactions with other banks'].value_counts()\n",
    "p1 = (resultsMale.get('Yes')/ (resultsMale.get('Yes') + resultsMale.get('No')))\n",
    "p2= (resultsFeMale.get('Yes')/ (resultsFeMale.get('Yes') + resultsFeMale.get('No')))\n",
    "pHat = (resultsMale.get('Yes') + resultsFeMale.get('Yes'))/ (resultsMale.get('Yes') + resultsMale.get('No') + resultsFeMale.get('Yes') + resultsFeMale.get('No'))\n",
    "n1 = resultsMale.get('Yes') + resultsMale.get('No')\n",
    "n2 = resultsFeMale.get('Yes') + resultsFeMale.get('No')\n",
    "print(resultsMale)\n",
    "print(resultsFeMale)\n",
    "print(p1)\n",
    "print(p2)\n",
    "print(pHat)\n",
    "z = (p1 - p2)/math.sqrt((pHat*(1-pHat)/n1)+(pHat*(1-pHat)/n2))\n",
    "print(z)"
   ]
  },
  {
   "cell_type": "markdown",
   "metadata": {},
   "source": [
    "#### More than six month users are users who get to know about the app from the bank"
   ]
  },
  {
   "cell_type": "code",
   "execution_count": 27,
   "metadata": {},
   "outputs": [
    {
     "name": "stdout",
     "output_type": "stream",
     "text": [
      "More than 1 year              89\n",
      "Less than 6 months            22\n",
      "Between 6 months to 1 year    15\n",
      "Name: Duration of using the mobile banking application, dtype: int64\n",
      "More than 1 year              62\n",
      "Less than 6 months            24\n",
      "Between 6 months to 1 year    15\n",
      "Name: Duration of using the mobile banking application, dtype: int64\n",
      "0.8253968253968254\n",
      "126\n",
      "0.7623762376237624\n",
      "101\n",
      "0.7973568281938326\n",
      "1.173878461399452\n"
     ]
    }
   ],
   "source": [
    "results = (df[['Duration of using the mobile banking application', 'Source to know about the mobile banking application']])\n",
    "resultsFromBank = (results[results['Source to know about the mobile banking application']=='From the bank' ])['Duration of using the mobile banking application'].value_counts()\n",
    "resultsNotFromBank = (results[results['Source to know about the mobile banking application']!='From the bank'])['Duration of using the mobile banking application'].value_counts()\n",
    "p1 = (resultsFromBank.get('More than 1 year')+ resultsFromBank.get('Between 6 months to 1 year'))/ (resultsFromBank.get('More than 1 year') + resultsFromBank.get('Between 6 months to 1 year')+ resultsFromBank.get('Less than 6 months'))\n",
    "p2= (resultsNotFromBank.get('More than 1 year')+ resultsNotFromBank.get('Between 6 months to 1 year'))/ (resultsNotFromBank.get('More than 1 year') + resultsNotFromBank.get('Between 6 months to 1 year') + resultsNotFromBank.get('Less than 6 months'))\n",
    "pHat = (resultsFromBank.get('More than 1 year')+ resultsFromBank.get('Between 6 months to 1 year') + resultsNotFromBank.get('More than 1 year')+ resultsNotFromBank.get('Between 6 months to 1 year'))/ (resultsFromBank.get('More than 1 year') + resultsFromBank.get('Between 6 months to 1 year')+ resultsFromBank.get('Less than 6 months') + resultsNotFromBank.get('More than 1 year') + resultsNotFromBank.get('Between 6 months to 1 year')+ resultsNotFromBank.get('Less than 6 months'))\n",
    "n1 = resultsFromBank.get('More than 1 year') + resultsFromBank.get('Between 6 months to 1 year')+ resultsFromBank.get('Less than 6 months')\n",
    "n2 = resultsNotFromBank.get('More than 1 year') + resultsNotFromBank.get('Between 6 months to 1 year') + resultsNotFromBank.get('Less than 6 months')\n",
    "print(resultsFromBank)\n",
    "print(resultsNotFromBank)\n",
    "print(p1)\n",
    "print(n1)\n",
    "print(p2)\n",
    "print(n2)\n",
    "print(pHat)\n",
    "z = (p1 - p2)/math.sqrt((pHat*(1-pHat)/n1)+(pHat*(1-pHat)/n2))\n",
    "print(z)"
   ]
  },
  {
   "cell_type": "markdown",
   "metadata": {},
   "source": [
    "#### More than six month users do large transactions"
   ]
  },
  {
   "cell_type": "code",
   "execution_count": 29,
   "metadata": {},
   "outputs": [
    {
     "name": "stdout",
     "output_type": "stream",
     "text": [
      "Yes    116\n",
      "No      35\n",
      "Name: Willing to use the mobile banking application to do large transactions, dtype: int64\n",
      "No     39\n",
      "Yes    37\n",
      "Name: Willing to use the mobile banking application to do large transactions, dtype: int64\n",
      "0.7682119205298014\n",
      "0.4868421052631579\n",
      "0.6740088105726872\n",
      "151\n",
      "76\n",
      "4.267997226699483\n"
     ]
    }
   ],
   "source": [
    "results = (df[['Willing to use the mobile banking application to do large transactions', 'Duration of using the mobile banking application']])\n",
    "resultsMale = (results[results['Duration of using the mobile banking application']=='More than 1 year' ])['Willing to use the mobile banking application to do large transactions'].value_counts()\n",
    "resultsFeMale = (results[results['Duration of using the mobile banking application']!='More than 1 year'])['Willing to use the mobile banking application to do large transactions'].value_counts()\n",
    "p1 = (resultsMale.get('Yes')/ (resultsMale.get('Yes') + resultsMale.get('No')))\n",
    "p2= (resultsFeMale.get('Yes')/ (resultsFeMale.get('Yes') + resultsFeMale.get('No')))\n",
    "pHat = (resultsMale.get('Yes') + resultsFeMale.get('Yes'))/ (resultsMale.get('Yes') + resultsMale.get('No') + resultsFeMale.get('Yes') + resultsFeMale.get('No'))\n",
    "n1 = resultsMale.get('Yes') + resultsMale.get('No')\n",
    "n2 = resultsFeMale.get('Yes') + resultsFeMale.get('No')\n",
    "print(resultsMale)\n",
    "print(resultsFeMale)\n",
    "print(p1)\n",
    "print(p2)\n",
    "print(pHat)\n",
    "print(n1)\n",
    "print(n2)\n",
    "z = (p1 - p2)/math.sqrt((pHat*(1-pHat)/n1)+(pHat*(1-pHat)/n2))\n",
    "print(z)"
   ]
  },
  {
   "cell_type": "markdown",
   "metadata": {},
   "source": [
    "#### More than one year users are not satisfied with the security measurements"
   ]
  },
  {
   "cell_type": "code",
   "execution_count": 34,
   "metadata": {},
   "outputs": [
    {
     "name": "stdout",
     "output_type": "stream",
     "text": [
      "Yes        55\n",
      "No         50\n",
      "Neutral    46\n",
      "Name: Satisfied with the service charges related to the mobile banking application, dtype: int64\n",
      "Neutral    32\n",
      "Yes        29\n",
      "No         15\n",
      "Name: Satisfied with the service charges related to the mobile banking application, dtype: int64\n",
      "0.33112582781456956\n",
      "0.19736842105263158\n",
      "0.28634361233480177\n",
      "151\n",
      "76\n",
      "2.103835858155101\n"
     ]
    }
   ],
   "source": [
    "results = (df[['Satisfied with the service charges related to the mobile banking application', 'Duration of using the mobile banking application']])\n",
    "resultsMale = (results[results['Duration of using the mobile banking application']=='More than 1 year' ])['Satisfied with the service charges related to the mobile banking application'].value_counts()\n",
    "resultsFeMale = (results[results['Duration of using the mobile banking application']!='More than 1 year'])['Satisfied with the service charges related to the mobile banking application'].value_counts()\n",
    "p1 = (resultsMale.get('No')/ (resultsMale.get('Yes') + resultsMale.get('No')+ resultsMale.get('Neutral')))\n",
    "p2= (resultsFeMale.get('No')/ (resultsFeMale.get('Yes') + resultsFeMale.get('No')+ resultsFeMale.get('Neutral')))\n",
    "pHat = (resultsMale.get('No') + resultsFeMale.get('No'))/ (resultsMale.get('Yes') + resultsMale.get('No')+ resultsMale.get('Neutral') + resultsFeMale.get('Yes') + resultsFeMale.get('No') + resultsFeMale.get('Neutral'))\n",
    "n1 = resultsMale.get('Yes') + resultsMale.get('No')+ resultsMale.get('Neutral')\n",
    "n2 = resultsFeMale.get('Yes') + resultsFeMale.get('No')+ resultsFeMale.get('Neutral')\n",
    "print(resultsMale)\n",
    "print(resultsFeMale)\n",
    "print(p1)\n",
    "print(p2)\n",
    "print(pHat)\n",
    "print(n1)\n",
    "print(n2)\n",
    "z = (p1 - p2)/math.sqrt((pHat*(1-pHat)/n1)+(pHat*(1-pHat)/n2))\n",
    "print(z)"
   ]
  },
  {
   "cell_type": "code",
   "execution_count": null,
   "metadata": {},
   "outputs": [],
   "source": []
  }
 ],
 "metadata": {
  "kernelspec": {
   "display_name": "Python 3",
   "language": "python",
   "name": "python3"
  },
  "language_info": {
   "codemirror_mode": {
    "name": "ipython",
    "version": 3
   },
   "file_extension": ".py",
   "mimetype": "text/x-python",
   "name": "python",
   "nbconvert_exporter": "python",
   "pygments_lexer": "ipython3",
   "version": "3.6.9"
  }
 },
 "nbformat": 4,
 "nbformat_minor": 2
}
